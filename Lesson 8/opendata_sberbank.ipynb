{
 "cells": [
  {
   "cell_type": "code",
   "execution_count": 1,
   "metadata": {},
   "outputs": [],
   "source": [
    "import numpy as np\n",
    "import pandas as pd\n",
    "from matplotlib import pyplot as plt\n",
    "%matplotlib inline"
   ]
  },
  {
   "cell_type": "code",
   "execution_count": 2,
   "metadata": {},
   "outputs": [
    {
     "data": {
      "text/html": [
       "<div>\n",
       "<style scoped>\n",
       "    .dataframe tbody tr th:only-of-type {\n",
       "        vertical-align: middle;\n",
       "    }\n",
       "\n",
       "    .dataframe tbody tr th {\n",
       "        vertical-align: top;\n",
       "    }\n",
       "\n",
       "    .dataframe thead th {\n",
       "        text-align: right;\n",
       "    }\n",
       "</style>\n",
       "<table border=\"1\" class=\"dataframe\">\n",
       "  <thead>\n",
       "    <tr style=\"text-align: right;\">\n",
       "      <th></th>\n",
       "      <th>name</th>\n",
       "      <th>region</th>\n",
       "      <th>date</th>\n",
       "      <th>value</th>\n",
       "    </tr>\n",
       "  </thead>\n",
       "  <tbody>\n",
       "    <tr>\n",
       "      <th>0</th>\n",
       "      <td>Количество заявок на потребительские кредиты</td>\n",
       "      <td>Россия</td>\n",
       "      <td>2013-01-15</td>\n",
       "      <td>571147</td>\n",
       "    </tr>\n",
       "    <tr>\n",
       "      <th>1</th>\n",
       "      <td>Количество заявок на потребительские кредиты</td>\n",
       "      <td>Россия</td>\n",
       "      <td>2013-02-15</td>\n",
       "      <td>504508</td>\n",
       "    </tr>\n",
       "    <tr>\n",
       "      <th>2</th>\n",
       "      <td>Количество заявок на потребительские кредиты</td>\n",
       "      <td>Россия</td>\n",
       "      <td>2013-03-15</td>\n",
       "      <td>628803</td>\n",
       "    </tr>\n",
       "    <tr>\n",
       "      <th>3</th>\n",
       "      <td>Количество заявок на потребительские кредиты</td>\n",
       "      <td>Россия</td>\n",
       "      <td>2013-04-15</td>\n",
       "      <td>836054</td>\n",
       "    </tr>\n",
       "    <tr>\n",
       "      <th>4</th>\n",
       "      <td>Количество заявок на потребительские кредиты</td>\n",
       "      <td>Россия</td>\n",
       "      <td>2013-05-15</td>\n",
       "      <td>867235</td>\n",
       "    </tr>\n",
       "  </tbody>\n",
       "</table>\n",
       "</div>"
      ],
      "text/plain": [
       "                                           name  region        date   value\n",
       "0  Количество заявок на потребительские кредиты  Россия  2013-01-15  571147\n",
       "1  Количество заявок на потребительские кредиты  Россия  2013-02-15  504508\n",
       "2  Количество заявок на потребительские кредиты  Россия  2013-03-15  628803\n",
       "3  Количество заявок на потребительские кредиты  Россия  2013-04-15  836054\n",
       "4  Количество заявок на потребительские кредиты  Россия  2013-05-15  867235"
      ]
     },
     "execution_count": 2,
     "metadata": {},
     "output_type": "execute_result"
    }
   ],
   "source": [
    "df = pd.read_csv('opendata.csv', encoding='ANSI')\n",
    "df.head()"
   ]
  },
  {
   "cell_type": "code",
   "execution_count": 3,
   "metadata": {},
   "outputs": [
    {
     "data": {
      "text/plain": [
       "{'Алтайский край',\n",
       " 'Амурская область',\n",
       " 'Архангельская область',\n",
       " 'Астраханская область',\n",
       " 'Белгородская область',\n",
       " 'Брянская область',\n",
       " 'Владимирская область',\n",
       " 'Волгоградская область',\n",
       " 'Вологодская область',\n",
       " 'Воронежская область',\n",
       " 'Еврейская автономная область',\n",
       " 'Забайкальский край',\n",
       " 'Ивановская область',\n",
       " 'Иркутская область',\n",
       " 'Кабардино-Балкарская Республика',\n",
       " 'Калининградская область',\n",
       " 'Калужская область',\n",
       " 'Камчатский край',\n",
       " 'Кемеровская область',\n",
       " 'Кировская область',\n",
       " 'Костромская область',\n",
       " 'Краснодарский край',\n",
       " 'Красноярский край',\n",
       " 'Курганская область',\n",
       " 'Курская область',\n",
       " 'Ленинградская область',\n",
       " 'Липецкая область',\n",
       " 'Магаданская область',\n",
       " 'Москва',\n",
       " 'Московская область',\n",
       " 'Мурманская область',\n",
       " 'Ненецкий автономный округ',\n",
       " 'Нижегородская область',\n",
       " 'Новгородская область',\n",
       " 'Новосибирская область',\n",
       " 'Омская область',\n",
       " 'Оренбургская область',\n",
       " 'Орловская область',\n",
       " 'Пензенская область',\n",
       " 'Пермский край',\n",
       " 'Приморский край',\n",
       " 'Псковская область',\n",
       " 'Республика Адыгея',\n",
       " 'Республика Алтай (Горный Алтай)',\n",
       " 'Республика Башкортостан',\n",
       " 'Республика Бурятия',\n",
       " 'Республика Дагестан',\n",
       " 'Республика Ингушетия',\n",
       " 'Республика Калмыкия',\n",
       " 'Республика Карачаево-Черкессия',\n",
       " 'Республика Карелия',\n",
       " 'Республика Коми',\n",
       " 'Республика Марий Эл',\n",
       " 'Республика Мордовия',\n",
       " 'Республика Саха (Якутия)',\n",
       " 'Республика Северная Осетия-Алания',\n",
       " 'Республика Татарстан',\n",
       " 'Республика Тыва',\n",
       " 'Республика Хакасия',\n",
       " 'Россия',\n",
       " 'Ростовская область',\n",
       " 'Рязанская область',\n",
       " 'Самарская область',\n",
       " 'Санкт-Петербург',\n",
       " 'Саратовская область',\n",
       " 'Сахалинская область',\n",
       " 'Свердловская область',\n",
       " 'Смоленская область',\n",
       " 'Ставропольский край',\n",
       " 'Тамбовская область',\n",
       " 'Тверская область',\n",
       " 'Томская область',\n",
       " 'Тульская область',\n",
       " 'Тюменская область',\n",
       " 'Удмуртская Республика',\n",
       " 'Ульяновская область',\n",
       " 'Хабаровский край',\n",
       " 'Ханты-Мансийский автономный округ — Югра',\n",
       " 'Челябинская область',\n",
       " 'Чеченская Республика',\n",
       " 'Чувашская Республика',\n",
       " 'Чукотский автономный округ',\n",
       " 'Ямало-Ненецкий автономный округ',\n",
       " 'Ярославская область'}"
      ]
     },
     "execution_count": 3,
     "metadata": {},
     "output_type": "execute_result"
    }
   ],
   "source": [
    "regions = set(df['region'].values)\n",
    "regions\n"
   ]
  },
  {
   "cell_type": "code",
   "execution_count": 4,
   "metadata": {},
   "outputs": [
    {
     "data": {
      "text/plain": [
       "{'В среднем депозитов в руб. на человека',\n",
       " 'В среднем руб. на текущем счете на человека',\n",
       " 'Количество заявок на ипотечные кредиты',\n",
       " 'Количество заявок на потребительские кредиты',\n",
       " 'Количество новых депозитов',\n",
       " 'Средние расходы по картам',\n",
       " 'Средние траты в ресторане',\n",
       " 'Средние траты в ресторане фастфуд',\n",
       " 'Средний чек в формате Ресторан',\n",
       " 'Средний чек в формате Фастфуд',\n",
       " 'Средняя зарплата',\n",
       " 'Средняя пенсия',\n",
       " 'Средняя сумма заявки на ипотечный кредит',\n",
       " 'Средняя сумма заявки на потребительский кредит',\n",
       " 'Средняя сумма нового депозита'}"
      ]
     },
     "execution_count": 4,
     "metadata": {},
     "output_type": "execute_result"
    }
   ],
   "source": [
    "params = set(df['name'].values)\n",
    "params"
   ]
  },
  {
   "cell_type": "code",
   "execution_count": 5,
   "metadata": {},
   "outputs": [
    {
     "data": {
      "text/html": [
       "<div>\n",
       "<style scoped>\n",
       "    .dataframe tbody tr th:only-of-type {\n",
       "        vertical-align: middle;\n",
       "    }\n",
       "\n",
       "    .dataframe tbody tr th {\n",
       "        vertical-align: top;\n",
       "    }\n",
       "\n",
       "    .dataframe thead th {\n",
       "        text-align: right;\n",
       "    }\n",
       "</style>\n",
       "<table border=\"1\" class=\"dataframe\">\n",
       "  <thead>\n",
       "    <tr style=\"text-align: right;\">\n",
       "      <th></th>\n",
       "      <th>name</th>\n",
       "      <th>region</th>\n",
       "      <th>date</th>\n",
       "      <th>value</th>\n",
       "    </tr>\n",
       "  </thead>\n",
       "  <tbody>\n",
       "    <tr>\n",
       "      <th>0</th>\n",
       "      <td>Количество заявок на потребительские кредиты</td>\n",
       "      <td>Россия</td>\n",
       "      <td>2013-01-15</td>\n",
       "      <td>571147</td>\n",
       "    </tr>\n",
       "    <tr>\n",
       "      <th>1</th>\n",
       "      <td>Количество заявок на потребительские кредиты</td>\n",
       "      <td>Россия</td>\n",
       "      <td>2013-02-15</td>\n",
       "      <td>504508</td>\n",
       "    </tr>\n",
       "    <tr>\n",
       "      <th>2</th>\n",
       "      <td>Количество заявок на потребительские кредиты</td>\n",
       "      <td>Россия</td>\n",
       "      <td>2013-03-15</td>\n",
       "      <td>628803</td>\n",
       "    </tr>\n",
       "    <tr>\n",
       "      <th>3</th>\n",
       "      <td>Количество заявок на потребительские кредиты</td>\n",
       "      <td>Россия</td>\n",
       "      <td>2013-04-15</td>\n",
       "      <td>836054</td>\n",
       "    </tr>\n",
       "    <tr>\n",
       "      <th>4</th>\n",
       "      <td>Количество заявок на потребительские кредиты</td>\n",
       "      <td>Россия</td>\n",
       "      <td>2013-05-15</td>\n",
       "      <td>867235</td>\n",
       "    </tr>\n",
       "  </tbody>\n",
       "</table>\n",
       "</div>"
      ],
      "text/plain": [
       "                                           name  region       date   value\n",
       "0  Количество заявок на потребительские кредиты  Россия 2013-01-15  571147\n",
       "1  Количество заявок на потребительские кредиты  Россия 2013-02-15  504508\n",
       "2  Количество заявок на потребительские кредиты  Россия 2013-03-15  628803\n",
       "3  Количество заявок на потребительские кредиты  Россия 2013-04-15  836054\n",
       "4  Количество заявок на потребительские кредиты  Россия 2013-05-15  867235"
      ]
     },
     "execution_count": 5,
     "metadata": {},
     "output_type": "execute_result"
    }
   ],
   "source": [
    "df['date'] = pd.to_datetime(df['date'], format='%Y-%m-%d') \n",
    "df.head()"
   ]
  },
  {
   "cell_type": "code",
   "execution_count": 6,
   "metadata": {},
   "outputs": [
    {
     "name": "stdout",
     "output_type": "stream",
     "text": [
      "<class 'pandas.core.frame.DataFrame'>\n",
      "RangeIndex: 74842 entries, 0 to 74841\n",
      "Data columns (total 4 columns):\n",
      " #   Column  Non-Null Count  Dtype         \n",
      "---  ------  --------------  -----         \n",
      " 0   name    74842 non-null  object        \n",
      " 1   region  74842 non-null  object        \n",
      " 2   date    74842 non-null  datetime64[ns]\n",
      " 3   value   74842 non-null  int64         \n",
      "dtypes: datetime64[ns](1), int64(1), object(2)\n",
      "memory usage: 2.3+ MB\n"
     ]
    }
   ],
   "source": [
    "df.info()"
   ]
  },
  {
   "cell_type": "code",
   "execution_count": 7,
   "metadata": {},
   "outputs": [
    {
     "name": "stdout",
     "output_type": "stream",
     "text": [
      "Введите название региона:Ульяновская область\n"
     ]
    }
   ],
   "source": [
    "region = input(\"Введите название региона:\")"
   ]
  },
  {
   "cell_type": "code",
   "execution_count": null,
   "metadata": {},
   "outputs": [],
   "source": []
  },
  {
   "cell_type": "code",
   "execution_count": 8,
   "metadata": {},
   "outputs": [
    {
     "name": "stdout",
     "output_type": "stream",
     "text": [
      "Введите интересующий параметр из списка: \n",
      " 'В среднем депозитов в руб. на человека', \n",
      " 'В среднем руб. на текущем счете на человека', \n",
      " 'Количество заявок на ипотечные кредиты', \n",
      " 'Количество заявок на потребительские кредиты', \n",
      "  'Количество новых депозитов', \n",
      " 'Средние расходы по картам', \n",
      " 'Средние траты в ресторане', \n",
      " 'Средние траты в ресторане фастфуд', \n",
      " 'Средний чек в формате Ресторан', \n",
      " 'Средний чек в формате Фастфуд', \n",
      " 'Средняя зарплата', \n",
      " 'Средняя пенсия', \n",
      " 'Средняя сумма заявки на ипотечный кредит', \n",
      " 'Средняя сумма заявки на потребительский кредит', \n",
      " 'Средняя сумма нового депозита'Средняя зарплата\n"
     ]
    }
   ],
   "source": [
    "param = input(\"Введите интересующий параметр из списка: \\n 'В среднем депозитов в руб. на человека', \\n 'В среднем руб. на текущем счете на человека', \\n 'Количество заявок на ипотечные кредиты', \\n 'Количество заявок на потребительские кредиты', \\n  'Количество новых депозитов', \\n 'Средние расходы по картам', \\n 'Средние траты в ресторане', \\n 'Средние траты в ресторане фастфуд', \\n 'Средний чек в формате Ресторан', \\n 'Средний чек в формате Фастфуд', \\n 'Средняя зарплата', \\n 'Средняя пенсия', \\n 'Средняя сумма заявки на ипотечный кредит', \\n 'Средняя сумма заявки на потребительский кредит', \\n 'Средняя сумма нового депозита'\")"
   ]
  },
  {
   "cell_type": "code",
   "execution_count": 20,
   "metadata": {},
   "outputs": [
    {
     "name": "stdout",
     "output_type": "stream",
     "text": [
      "Введите начало периода в формате ГГГГ-ММ-15:2018-01-15\n"
     ]
    }
   ],
   "source": [
    "start_period = input(\"Введите начало периода в формате ГГГГ-ММ-15:\")"
   ]
  },
  {
   "cell_type": "code",
   "execution_count": 10,
   "metadata": {},
   "outputs": [
    {
     "name": "stdout",
     "output_type": "stream",
     "text": [
      "Введите конец периода в формате ГГГГ-ММ-15:2019-01-15\n"
     ]
    }
   ],
   "source": [
    "end_period = input(\"Введите конец периода в формате ГГГГ-ММ-15:\")"
   ]
  },
  {
   "cell_type": "code",
   "execution_count": 21,
   "metadata": {},
   "outputs": [
    {
     "data": {
      "text/html": [
       "<div>\n",
       "<style scoped>\n",
       "    .dataframe tbody tr th:only-of-type {\n",
       "        vertical-align: middle;\n",
       "    }\n",
       "\n",
       "    .dataframe tbody tr th {\n",
       "        vertical-align: top;\n",
       "    }\n",
       "\n",
       "    .dataframe thead th {\n",
       "        text-align: right;\n",
       "    }\n",
       "</style>\n",
       "<table border=\"1\" class=\"dataframe\">\n",
       "  <thead>\n",
       "    <tr style=\"text-align: right;\">\n",
       "      <th></th>\n",
       "      <th>name</th>\n",
       "      <th>region</th>\n",
       "      <th>date</th>\n",
       "      <th>value</th>\n",
       "    </tr>\n",
       "  </thead>\n",
       "  <tbody>\n",
       "    <tr>\n",
       "      <th>38149</th>\n",
       "      <td>Средняя зарплата</td>\n",
       "      <td>Ульяновская область</td>\n",
       "      <td>2018-01-15</td>\n",
       "      <td>17405</td>\n",
       "    </tr>\n",
       "    <tr>\n",
       "      <th>38150</th>\n",
       "      <td>Средняя зарплата</td>\n",
       "      <td>Ульяновская область</td>\n",
       "      <td>2018-02-15</td>\n",
       "      <td>24182</td>\n",
       "    </tr>\n",
       "    <tr>\n",
       "      <th>38151</th>\n",
       "      <td>Средняя зарплата</td>\n",
       "      <td>Ульяновская область</td>\n",
       "      <td>2018-03-15</td>\n",
       "      <td>22979</td>\n",
       "    </tr>\n",
       "    <tr>\n",
       "      <th>38152</th>\n",
       "      <td>Средняя зарплата</td>\n",
       "      <td>Ульяновская область</td>\n",
       "      <td>2018-04-15</td>\n",
       "      <td>24771</td>\n",
       "    </tr>\n",
       "    <tr>\n",
       "      <th>38153</th>\n",
       "      <td>Средняя зарплата</td>\n",
       "      <td>Ульяновская область</td>\n",
       "      <td>2018-05-15</td>\n",
       "      <td>19345</td>\n",
       "    </tr>\n",
       "    <tr>\n",
       "      <th>38154</th>\n",
       "      <td>Средняя зарплата</td>\n",
       "      <td>Ульяновская область</td>\n",
       "      <td>2018-06-15</td>\n",
       "      <td>26259</td>\n",
       "    </tr>\n",
       "    <tr>\n",
       "      <th>38155</th>\n",
       "      <td>Средняя зарплата</td>\n",
       "      <td>Ульяновская область</td>\n",
       "      <td>2018-07-15</td>\n",
       "      <td>25504</td>\n",
       "    </tr>\n",
       "    <tr>\n",
       "      <th>38156</th>\n",
       "      <td>Средняя зарплата</td>\n",
       "      <td>Ульяновская область</td>\n",
       "      <td>2018-08-15</td>\n",
       "      <td>24867</td>\n",
       "    </tr>\n",
       "    <tr>\n",
       "      <th>38157</th>\n",
       "      <td>Средняя зарплата</td>\n",
       "      <td>Ульяновская область</td>\n",
       "      <td>2018-09-15</td>\n",
       "      <td>22853</td>\n",
       "    </tr>\n",
       "    <tr>\n",
       "      <th>38158</th>\n",
       "      <td>Средняя зарплата</td>\n",
       "      <td>Ульяновская область</td>\n",
       "      <td>2018-10-15</td>\n",
       "      <td>24158</td>\n",
       "    </tr>\n",
       "    <tr>\n",
       "      <th>38159</th>\n",
       "      <td>Средняя зарплата</td>\n",
       "      <td>Ульяновская область</td>\n",
       "      <td>2018-11-15</td>\n",
       "      <td>25722</td>\n",
       "    </tr>\n",
       "    <tr>\n",
       "      <th>38160</th>\n",
       "      <td>Средняя зарплата</td>\n",
       "      <td>Ульяновская область</td>\n",
       "      <td>2018-12-15</td>\n",
       "      <td>35794</td>\n",
       "    </tr>\n",
       "    <tr>\n",
       "      <th>38161</th>\n",
       "      <td>Средняя зарплата</td>\n",
       "      <td>Ульяновская область</td>\n",
       "      <td>2019-01-15</td>\n",
       "      <td>20770</td>\n",
       "    </tr>\n",
       "  </tbody>\n",
       "</table>\n",
       "</div>"
      ],
      "text/plain": [
       "                   name               region       date  value\n",
       "38149  Средняя зарплата  Ульяновская область 2018-01-15  17405\n",
       "38150  Средняя зарплата  Ульяновская область 2018-02-15  24182\n",
       "38151  Средняя зарплата  Ульяновская область 2018-03-15  22979\n",
       "38152  Средняя зарплата  Ульяновская область 2018-04-15  24771\n",
       "38153  Средняя зарплата  Ульяновская область 2018-05-15  19345\n",
       "38154  Средняя зарплата  Ульяновская область 2018-06-15  26259\n",
       "38155  Средняя зарплата  Ульяновская область 2018-07-15  25504\n",
       "38156  Средняя зарплата  Ульяновская область 2018-08-15  24867\n",
       "38157  Средняя зарплата  Ульяновская область 2018-09-15  22853\n",
       "38158  Средняя зарплата  Ульяновская область 2018-10-15  24158\n",
       "38159  Средняя зарплата  Ульяновская область 2018-11-15  25722\n",
       "38160  Средняя зарплата  Ульяновская область 2018-12-15  35794\n",
       "38161  Средняя зарплата  Ульяновская область 2019-01-15  20770"
      ]
     },
     "execution_count": 21,
     "metadata": {},
     "output_type": "execute_result"
    }
   ],
   "source": [
    "df1 = df[(df['region']==region) & (df['name'] == param) & (df['date']>=start_period) & (df['date']<=end_period)]\n",
    "df1"
   ]
  },
  {
   "cell_type": "code",
   "execution_count": 22,
   "metadata": {},
   "outputs": [
    {
     "data": {
      "text/plain": [
       "<matplotlib.axes._subplots.AxesSubplot at 0x25363cdae48>"
      ]
     },
     "execution_count": 22,
     "metadata": {},
     "output_type": "execute_result"
    },
    {
     "data": {
      "image/png": "[encoded data removed]",
      "text/plain": [
       "<Figure size 1440x720 with 1 Axes>"
      ]
     },
     "metadata": {
      "needs_background": "light"
     },
     "output_type": "display_data"
    }
   ],
   "source": [
    "df1.plot(x = 'date', y = 'value', figsize = (20,10), title = param)"
   ]
  },
  {
   "cell_type": "code",
   "execution_count": null,
   "metadata": {},
   "outputs": [],
   "source": []
  }
 ],
 "metadata": {
  "kernelspec": {
   "display_name": "Python 3",
   "language": "python",
   "name": "python3"
  },
  "language_info": {
   "codemirror_mode": {
    "name": "ipython",
    "version": 3
   },
   "file_extension": ".py",
   "mimetype": "text/x-python",
   "name": "python",
   "nbconvert_exporter": "python",
   "pygments_lexer": "ipython3",
   "version": "3.7.6"
  }
 },
 "nbformat": 4,
 "nbformat_minor": 4
}
